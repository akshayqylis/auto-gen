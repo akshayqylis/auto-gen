{
 "cells": [
  {
   "cell_type": "code",
   "execution_count": 5,
   "id": "0b021a20",
   "metadata": {},
   "outputs": [],
   "source": [
    "from autogen_ext.models.openai import OpenAIChatCompletionClient\n",
    "from autogen_agentchat.agents import AssistantAgent, CodeExecutorAgent\n",
    "from autogen_core.models import ModelInfo\n",
    "from autogen_agentchat.conditions import MaxMessageTermination"
   ]
  },
  {
   "cell_type": "code",
   "execution_count": 6,
   "id": "76b564fb",
   "metadata": {},
   "outputs": [],
   "source": [
    "from autogen_ext.code_executors.docker import DockerCommandLineCodeExecutor"
   ]
  },
  {
   "cell_type": "code",
   "execution_count": 7,
   "id": "ca93aff1",
   "metadata": {},
   "outputs": [],
   "source": [
    "from autogen_ext.agents.file_surfer import FileSurfer\n",
    "from autogen_ext.agents.web_surfer import MultimodalWebSurfer\n",
    "from autogen_ext.agents.video_surfer import VideoSurfer\n",
    "from autogen_ext.agents.magentic_one import MagenticOneCoderAgent"
   ]
  },
  {
   "cell_type": "code",
   "execution_count": 8,
   "id": "2cb351b2",
   "metadata": {},
   "outputs": [],
   "source": [
    "from autogen_agentchat.teams import RoundRobinGroupChat, MagenticOneGroupChat"
   ]
  },
  {
   "cell_type": "code",
   "execution_count": 9,
   "id": "ab714c49",
   "metadata": {},
   "outputs": [],
   "source": [
    "from autogen_agentchat.ui import Console"
   ]
  },
  {
   "cell_type": "code",
   "execution_count": 10,
   "id": "2b5bcb1f",
   "metadata": {},
   "outputs": [],
   "source": [
    "termination_condition = MaxMessageTermination(3)"
   ]
  },
  {
   "cell_type": "code",
   "execution_count": 11,
   "id": "809891cb",
   "metadata": {},
   "outputs": [],
   "source": [
    "vllm_model = OpenAIChatCompletionClient(\n",
    "        model=\"Team-ACE/ToolACE-2-Llama-3.1-8B\",\n",
    "        base_url=\"https://g3.ai.qylis.com/tllama3/v1\",\n",
    "        api_key=\"NotRequired\",\n",
    "        model_info=ModelInfo(vision=False, function_calling=True, json_output=True, family=\"llama\", structured_output=True),\n",
    "    )\n",
    "\n",
    "agent = AssistantAgent(\n",
    "        name=\"chat_agent\",\n",
    "        model_client=vllm_model, \n",
    "    )"
   ]
  },
  {
   "cell_type": "code",
   "execution_count": 12,
   "id": "5c56cab1",
   "metadata": {},
   "outputs": [
    {
     "name": "stdout",
     "output_type": "stream",
     "text": [
      "[TextMessage(source='user', models_usage=None, metadata={}, content='Find information on Mexico', type='TextMessage'), TextMessage(source='chat_agent', models_usage=RequestUsage(prompt_tokens=43, completion_tokens=497), metadata={}, content=\"Mexico is a country located in North America, known for its rich cultural heritage, diverse geography, and vibrant cities. Here are some key points about Mexico:\\n\\n1. **Location and Geography**: Mexico is bordered by the United States to the north, Belize and Guatemala to the southeast, and the Pacific Ocean to the west and the Gulf of Mexico to the east. It has a diverse geography, including deserts, mountains, and coastlines.\\n\\n2. **Population and Capital**: As of 2021, Mexico's population is approximately 127 million. The capital city is Mexico City, which is one of the largest cities in the world and a major cultural and economic center.\\n\\n3. **Language**: The official language is Spanish, and it is the most widely spoken language in the country. Many Mexicans also speak indigenous languages, and English is increasingly common, especially in tourist areas.\\n\\n4. **Economy**: Mexico has a mixed economy, with a diverse range of industries including manufacturing, agriculture, and tourism. It is a significant producer of oil and natural gas, and its automotive industry is a major contributor to the economy.\\n\\n5. **Cuisine**: Mexican cuisine is famous worldwide for its bold flavors and variety. Popular dishes include tacos, tamales, enchiladas, and chiles rellenos. The country is also known for its tequila and mezcal, which are types of spirits made from the agave plant.\\n\\n6. **History**: Mexico has a rich and complex history, with evidence of human habitation dating back to the Paleolithic era. The Aztecs and Mayans were two of the most influential civilizations in Mexican history, followed by the Spanish conquest in the 16th century.\\n\\n7. **Culture**: Mexican culture is a blend of indigenous and European influences. It is known for its vibrant arts, including music, dance, and visual arts. The country has a strong tradition of festivals and celebrations, such as the Day of the Dead (Día de Muertos) and the Guelaguetza.\\n\\n8. **Tourism**: Mexico is a popular tourist destination, attracting millions of visitors each year. Popular tourist destinations include Cancun, Tulum, and Puerto Vallarta, which offer beautiful beaches and rich cultural heritage sites. The ancient Mayan and Aztec ruins are also a major draw for tourists.\\n\\nThese points provide a brief overview of Mexico, highlighting its diverse geography, rich culture, and significant economic and historical aspects.\", type='TextMessage')]\n"
     ]
    }
   ],
   "source": [
    "result = await agent.run(task=\"Find information on Mexico\")\n",
    "print(result.messages)"
   ]
  },
  {
   "cell_type": "code",
   "execution_count": null,
   "id": "87f61cb0",
   "metadata": {},
   "outputs": [],
   "source": [
    "from autogen_core.tools import FunctionTool\n",
    "\n",
    "\n",
    "# Define a tool using a Python function.\n",
    "async def web_search_func(query: str) -> str:\n",
    "    \"\"\"Find information on the web\"\"\"\n",
    "    return \"AutoGen is a programming framework for building multi-agent applications.\"\n",
    "\n",
    "# This step is automatically performed inside the AssistantAgent if the tool is a Python function.\n",
    "web_search_function_tool = FunctionTool(web_search_func, description=\"Find information on the web\")\n",
    "# The schema is provided to the model during AssistantAgent's on_messages call.\n",
    "web_search_function_tool.schema"
   ]
  },
  {
   "cell_type": "code",
   "execution_count": null,
   "id": "85449193",
   "metadata": {},
   "outputs": [],
   "source": [
    "tool_agent = AssistantAgent(\n",
    "        name=\"chat_agent\",\n",
    "        model_client=vllm_model, \n",
    "        tools=[web_search_function_tool]\n",
    "    )"
   ]
  },
  {
   "cell_type": "code",
   "execution_count": null,
   "id": "81cbb49e",
   "metadata": {},
   "outputs": [],
   "source": [
    "result = await tool_agent.run(task=\"Find information on AutoGen\")\n",
    "print(result.messages)"
   ]
  },
  {
   "cell_type": "code",
   "execution_count": null,
   "id": "a8805ca0",
   "metadata": {},
   "outputs": [],
   "source": [
    "file_agent = FileSurfer(\n",
    "        name=\"file_surfer\",\n",
    "        model_client=vllm_model,\n",
    "    )"
   ]
  },
  {
   "cell_type": "code",
   "execution_count": null,
   "id": "b6c821ed",
   "metadata": {},
   "outputs": [],
   "source": [
    "result = await file_agent.run(task=\"How many .json files are in the current directory. List their paths.\")\n",
    "print(str(result.messages))"
   ]
  },
  {
   "cell_type": "code",
   "execution_count": null,
   "id": "365062eb",
   "metadata": {},
   "outputs": [],
   "source": [
    "result = await file_agent.run(task=\"What are the contents of chat-tool.json file.\")\n",
    "print(str(result.messages))"
   ]
  },
  {
   "cell_type": "code",
   "execution_count": null,
   "id": "996afeb8",
   "metadata": {},
   "outputs": [],
   "source": [
    "web_surfer_agent = MultimodalWebSurfer(\n",
    "        name=\"web_agent\",\n",
    "        model_client=vllm_model,\n",
    "    )"
   ]
  },
  {
   "cell_type": "code",
   "execution_count": null,
   "id": "50264a2c",
   "metadata": {},
   "outputs": [],
   "source": [
    "# Define a team\n",
    "agent_team = RoundRobinGroupChat([web_surfer_agent], max_turns=3)"
   ]
  },
  {
   "cell_type": "code",
   "execution_count": null,
   "id": "b28a4356",
   "metadata": {},
   "outputs": [],
   "source": [
    "# Run the team and stream messages to the console\n",
    "stream = agent_team.run_stream(task=\"Navigate to the microsoft readme on GitHub. Try again\")\n",
    "await Console(stream)\n",
    "# Close the browser controlled by the agent\n",
    "await web_surfer_agent.close()"
   ]
  },
  {
   "cell_type": "code",
   "execution_count": null,
   "id": "dda9048b",
   "metadata": {},
   "outputs": [],
   "source": [
    "# Define an agent\n",
    "video_agent = VideoSurfer(\n",
    "    name=\"VideoSurfer\",\n",
    "    model_client=vllm_model\n",
    "    )"
   ]
  },
  {
   "cell_type": "code",
   "execution_count": null,
   "id": "ff80990b",
   "metadata": {},
   "outputs": [],
   "source": [
    "# Define a team\n",
    "agent_team = MagenticOneGroupChat([web_surfer_agent, video_agent], model_client=vllm_model,)\n",
    "\n",
    "# Run the team and stream messages to the console\n",
    "stream = agent_team.run_stream(task=\"Find a latest video about magentic one on youtube and extract quotes from it that make sense.\")\n",
    "await Console(stream)"
   ]
  },
  {
   "cell_type": "code",
   "execution_count": 25,
   "id": "098c2ddd",
   "metadata": {},
   "outputs": [],
   "source": [
    "coder_agent = MagenticOneCoderAgent(\n",
    "    name=\"coder_agent\",\n",
    "    model_client=vllm_model,\n",
    ")"
   ]
  },
  {
   "cell_type": "code",
   "execution_count": 26,
   "id": "e9eccbb7",
   "metadata": {},
   "outputs": [],
   "source": [
    "# define the Docker CLI Code Executor\n",
    "code_executor = DockerCommandLineCodeExecutor(work_dir=\"coding\")"
   ]
  },
  {
   "cell_type": "code",
   "execution_count": 27,
   "id": "c70f259e",
   "metadata": {},
   "outputs": [],
   "source": [
    "await code_executor.start()"
   ]
  },
  {
   "cell_type": "code",
   "execution_count": 28,
   "id": "603f4555",
   "metadata": {},
   "outputs": [],
   "source": [
    "code_executor_agent = CodeExecutorAgent(\"code_executor_agent\", code_executor=code_executor)"
   ]
  },
  {
   "cell_type": "code",
   "execution_count": 30,
   "id": "e8c251a7",
   "metadata": {},
   "outputs": [
    {
     "name": "stdout",
     "output_type": "stream",
     "text": [
      "---------- user ----------\n",
      "Write python code to print Hello World! with the correct markdown format\n",
      "---------- coder_agent ----------\n",
      "```python\n",
      "# Print \"Hello World!\" in markdown format\n",
      "print(\"Hello World!\")\n",
      "```\n",
      "---------- code_executor_agent ----------\n",
      "Hello World!\n",
      "\n"
     ]
    },
    {
     "data": {
      "text/plain": [
       "TaskResult(messages=[TextMessage(source='user', models_usage=None, metadata={}, content='Write python code to print Hello World! with the correct markdown format', type='TextMessage'), TextMessage(source='coder_agent', models_usage=RequestUsage(prompt_tokens=487, completion_tokens=20), metadata={}, content='```python\\n# Print \"Hello World!\" in markdown format\\nprint(\"Hello World!\")\\n```', type='TextMessage'), TextMessage(source='code_executor_agent', models_usage=None, metadata={}, content='Hello World!\\n', type='TextMessage')], stop_reason='Maximum number of messages 3 reached, current message count: 3')"
      ]
     },
     "execution_count": 30,
     "metadata": {},
     "output_type": "execute_result"
    }
   ],
   "source": [
    "groupchat = RoundRobinGroupChat(\n",
    "    participants=[coder_agent, code_executor_agent], termination_condition=termination_condition\n",
    ")\n",
    "\n",
    "task = \"Write python code to print Hello World! with the correct markdown format\"\n",
    "await Console(groupchat.run_stream(task=task))"
   ]
  },
  {
   "cell_type": "code",
   "execution_count": null,
   "id": "dcb73c6e",
   "metadata": {},
   "outputs": [],
   "source": [
    "# stop the execution container\n",
    "await code_executor.stop()"
   ]
  }
 ],
 "metadata": {
  "kernelspec": {
   "display_name": "autoenv",
   "language": "python",
   "name": "python3"
  },
  "language_info": {
   "codemirror_mode": {
    "name": "ipython",
    "version": 3
   },
   "file_extension": ".py",
   "mimetype": "text/x-python",
   "name": "python",
   "nbconvert_exporter": "python",
   "pygments_lexer": "ipython3",
   "version": "3.10.12"
  }
 },
 "nbformat": 4,
 "nbformat_minor": 5
}
