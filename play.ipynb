{
 "cells": [
  {
   "cell_type": "code",
   "execution_count": null,
   "id": "d7ed5322",
   "metadata": {},
   "outputs": [],
   "source": [
    "from autogen_ext.models.openai import OpenAIChatCompletionClient\n",
    "from autogen_agentchat.agents import AssistantAgent\n",
    "from autogen_core.models import ModelInfo"
   ]
  },
  {
   "cell_type": "code",
   "execution_count": null,
   "id": "e9f9f015",
   "metadata": {},
   "outputs": [],
   "source": [
    "mistral_vllm_model = OpenAIChatCompletionClient(\n",
    "        model=\"meta-llama/Llama-3.1-8B-Instruct\",\n",
    "        base_url=\"http://g3.ai.qylis.com:8000/v1\",\n",
    "        api_key=\"NotRequired\",\n",
    "        model_info=ModelInfo(vision=False, function_calling=True, json_output=False, family=\"unknown\", structured_output=True),\n",
    "    )\n",
    "\n",
    "agent = AssistantAgent(\n",
    "        name=\"chat_agent\",\n",
    "        model_client=mistral_vllm_model, \n",
    "    )"
   ]
  },
  {
   "cell_type": "code",
   "execution_count": 4,
   "id": "690074d6",
   "metadata": {},
   "outputs": [],
   "source": [
    "import autogen_agentchat.agents as mags"
   ]
  },
  {
   "cell_type": "code",
   "execution_count": 5,
   "id": "601c1ecc",
   "metadata": {},
   "outputs": [
    {
     "data": {
      "text/plain": [
       "['AssistantAgent',\n",
       " 'BaseChatAgent',\n",
       " 'CodeExecutorAgent',\n",
       " 'SocietyOfMindAgent',\n",
       " 'UserProxyAgent',\n",
       " '__all__',\n",
       " '__builtins__',\n",
       " '__cached__',\n",
       " '__doc__',\n",
       " '__file__',\n",
       " '__loader__',\n",
       " '__name__',\n",
       " '__package__',\n",
       " '__path__',\n",
       " '__spec__',\n",
       " '_assistant_agent',\n",
       " '_base_chat_agent',\n",
       " '_code_executor_agent',\n",
       " '_society_of_mind_agent',\n",
       " '_user_proxy_agent']"
      ]
     },
     "execution_count": 5,
     "metadata": {},
     "output_type": "execute_result"
    }
   ],
   "source": [
    "dir(mags)"
   ]
  },
  {
   "cell_type": "code",
   "execution_count": 8,
   "id": "3506a2e6",
   "metadata": {},
   "outputs": [],
   "source": [
    "import autogen_ext.agents as eagents"
   ]
  },
  {
   "cell_type": "code",
   "execution_count": 2,
   "id": "d37aec15",
   "metadata": {},
   "outputs": [],
   "source": [
    "import autogen_agentchat.teams as teams"
   ]
  },
  {
   "cell_type": "code",
   "execution_count": 3,
   "id": "9cf63f3a",
   "metadata": {},
   "outputs": [
    {
     "data": {
      "text/plain": [
       "['BaseGroupChat',\n",
       " 'MagenticOneGroupChat',\n",
       " 'RoundRobinGroupChat',\n",
       " 'SelectorGroupChat',\n",
       " 'Swarm',\n",
       " '__all__',\n",
       " '__builtins__',\n",
       " '__cached__',\n",
       " '__doc__',\n",
       " '__file__',\n",
       " '__loader__',\n",
       " '__name__',\n",
       " '__package__',\n",
       " '__path__',\n",
       " '__spec__',\n",
       " '_group_chat']"
      ]
     },
     "execution_count": 3,
     "metadata": {},
     "output_type": "execute_result"
    }
   ],
   "source": [
    "dir(teams)"
   ]
  },
  {
   "cell_type": "code",
   "execution_count": null,
   "id": "15a2e1d3",
   "metadata": {},
   "outputs": [],
   "source": []
  }
 ],
 "metadata": {
  "kernelspec": {
   "display_name": "autoenv",
   "language": "python",
   "name": "python3"
  },
  "language_info": {
   "codemirror_mode": {
    "name": "ipython",
    "version": 3
   },
   "file_extension": ".py",
   "mimetype": "text/x-python",
   "name": "python",
   "nbconvert_exporter": "python",
   "pygments_lexer": "ipython3",
   "version": "3.10.12"
  }
 },
 "nbformat": 4,
 "nbformat_minor": 5
}
